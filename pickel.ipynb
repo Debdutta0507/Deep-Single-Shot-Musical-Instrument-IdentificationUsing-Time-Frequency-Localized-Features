{
  "nbformat": 4,
  "nbformat_minor": 0,
  "metadata": {
    "colab": {
      "name": "pickel.ipynb",
      "provenance": [],
      "collapsed_sections": [],
      "mount_file_id": "1sAvoIB2E_-JsZINak3WWWJFlSUYSYFO4",
      "authorship_tag": "ABX9TyMQl4zAk95Dc7JWR3BTy/bK",
      "include_colab_link": true
    },
    "kernelspec": {
      "name": "python3",
      "display_name": "Python 3"
    }
  },
  "cells": [
    {
      "cell_type": "markdown",
      "metadata": {
        "id": "view-in-github",
        "colab_type": "text"
      },
      "source": [
        "<a href=\"https://colab.research.google.com/github/Debdutta0507/Deep-Single-Shot-Musical-Instrument-IdentificationUsing-Time-Frequency-Localized-Features/blob/master/pickel.ipynb\" target=\"_parent\"><img src=\"https://colab.research.google.com/assets/colab-badge.svg\" alt=\"Open In Colab\"/></a>"
      ]
    },
    {
      "cell_type": "code",
      "metadata": {
        "id": "2xm5AP_BO9N9"
      },
      "source": [
        "\n",
        "def loadimgs1(path,n = 0):\n",
        "    import os\n",
        "    from skimage.io import imread\n",
        "    import numpy as np\n",
        "    import sys\n",
        "    import numpy as np\n",
        "    #from scipy.misc import imread\n",
        "    import pickle\n",
        "    import os\n",
        "    import matplotlib.pyplot as plt\n",
        "    import argparse\n",
        "    '''\n",
        "    path =r\"/content/drive/My Drive/data_set1/training set\"\n",
        "    '''\n",
        "    \n",
        "    X=[]\n",
        "    y = []\n",
        "    cat_dict = {}\n",
        "    lang_dict = {}\n",
        "    curr_y = n\n",
        "    \n",
        "    # we load every alphabet seperately so we can isolate them later\n",
        "    for alphabet in os.listdir(path):\n",
        "        print(\"loading alphabet: \" + alphabet)\n",
        "        lang_dict[alphabet] = [curr_y,None]\n",
        "        category_images=[]\n",
        "        alphabet_path = os.path.join(path,alphabet)\n",
        "        \n",
        "        # every letter/category has it's own column in the array, so  load seperately\n",
        "        for filename in os.listdir(alphabet_path):\n",
        "            cat_dict[curr_y] = (alphabet, filename)\n",
        "            image_path=os.path.join(alphabet_path,filename)\n",
        "            image=imread(image_path)\n",
        "            category_images.append(image)\n",
        "            y.append(curr_y)\n",
        "            curr_y +=1\n",
        "        try:\n",
        "            X.append(np.stack(category_images))\n",
        "        except ValueError as e:\n",
        "            print(e)\n",
        "            print(\"error-category images\",category_images)\n",
        "        #curr_y +=1\n",
        "        lang_dict[alphabet][1]=curr_y-1\n",
        "        \"\"\" \n",
        "            letter_path = os.path.join(alphabet_path, letter)\n",
        "            \n",
        "            # read all the images in the current category\n",
        "            for filename in os.listdir(letter_path):\n",
        "                image_path = os.path.join(letter_path, filename)\n",
        "                image = imread(image_path)\n",
        "                category_images.append(image)\n",
        "                y.append(curr_y)\n",
        "            try:\n",
        "                X.append(np.stack(category_images))\n",
        "            # edge case  - last one\n",
        "            except ValueError as e:\n",
        "                print(e)\n",
        "                print(\"error - category_images:\", category_images)\n",
        "            curr_y += 1\n",
        "            lang_dict[alphabet][1] = curr_y - 1\n",
        "        \"\"\"\n",
        "    y = np.vstack(y)\n",
        "    X = np.stack(X)\n",
        "    return X,y,lang_dict\n"
      ],
      "execution_count": null,
      "outputs": []
    },
    {
      "cell_type": "code",
      "metadata": {
        "id": "q_MmFEyGPJA5",
        "colab": {
          "base_uri": "https://localhost:8080/",
          "height": 221
        },
        "outputId": "dbc7a6fc-fe2c-4a8b-bf73-0e8774079f78"
      },
      "source": [
        "X,y,c=loadimgs1(\"/content/drive/My Drive/Dataset_kaggle/Validatio Set\")"
      ],
      "execution_count": null,
      "outputs": [
        {
          "output_type": "stream",
          "text": [
            "loading alphabet: Trompa\n",
            "loading alphabet: Saxsoprano\n",
            "loading alphabet: Trombon\n",
            "loading alphabet: Tuba\n",
            "loading alphabet: Trompeta\n",
            "loading alphabet: Viola\n",
            "loading alphabet: Violin\n",
            "loading alphabet: Celllo\n",
            "loading alphabet: Saxofone Alto\n",
            "loading alphabet: Clarinet\n",
            "loading alphabet: Oboe\n",
            "loading alphabet: Guitar\n"
          ],
          "name": "stdout"
        }
      ]
    },
    {
      "cell_type": "code",
      "metadata": {
        "id": "JtTisC_8wAh2",
        "colab": {
          "base_uri": "https://localhost:8080/",
          "height": 34
        },
        "outputId": "86f93c06-7aa2-4595-923c-7407ae7894e0"
      },
      "source": [
        "X.shape"
      ],
      "execution_count": null,
      "outputs": [
        {
          "output_type": "execute_result",
          "data": {
            "text/plain": [
              "(12, 100, 224, 224, 3)"
            ]
          },
          "metadata": {
            "tags": []
          },
          "execution_count": 46
        }
      ]
    },
    {
      "cell_type": "code",
      "metadata": {
        "id": "c1Q_9SaIj3yM",
        "colab": {
          "base_uri": "https://localhost:8080/",
          "height": 34
        },
        "outputId": "dd8e3567-1609-4a88-e6d2-a4f832d0c7e4"
      },
      "source": [
        "y.shape"
      ],
      "execution_count": null,
      "outputs": [
        {
          "output_type": "execute_result",
          "data": {
            "text/plain": [
              "(1000, 1)"
            ]
          },
          "metadata": {
            "tags": []
          },
          "execution_count": 36
        }
      ]
    },
    {
      "cell_type": "code",
      "metadata": {
        "id": "EKPltFMIkbTx",
        "colab": {
          "base_uri": "https://localhost:8080/",
          "height": 221
        },
        "outputId": "26be8038-8ad2-4831-c1a3-4fc22e4cb531"
      },
      "source": [
        "c"
      ],
      "execution_count": null,
      "outputs": [
        {
          "output_type": "execute_result",
          "data": {
            "text/plain": [
              "{'Contrabanjo': [300, 399],\n",
              " 'Fluta': [800, 899],\n",
              " 'Guitar': [1100, 1199],\n",
              " 'Oboe': [1000, 1099],\n",
              " 'Saxofone Alto': [900, 999],\n",
              " 'Saxsoprano': [100, 199],\n",
              " 'Trombon': [200, 299],\n",
              " 'Trompa': [0, 99],\n",
              " 'Trompeta': [500, 599],\n",
              " 'Tuba': [400, 499],\n",
              " 'Viola': [600, 699],\n",
              " 'Violin': [700, 799]}"
            ]
          },
          "metadata": {
            "tags": []
          },
          "execution_count": 43
        }
      ]
    },
    {
      "cell_type": "code",
      "metadata": {
        "id": "YVx9jD50wKu2"
      },
      "source": [
        "import os\n",
        "import pickle"
      ],
      "execution_count": null,
      "outputs": []
    },
    {
      "cell_type": "code",
      "metadata": {
        "id": "h7hRPRwvvsD_"
      },
      "source": [
        "with open(os.path.join(\"/content/drive/My Drive/Preprocess_7\",\"val.pickle\"), \"wb\") as f:\n",
        "    pickle.dump((X,c),f)# repeat the same for validation set"
      ],
      "execution_count": null,
      "outputs": []
    },
    {
      "cell_type": "code",
      "metadata": {
        "id": "XDrwVZ3w5ZKR"
      },
      "source": [
        ""
      ],
      "execution_count": null,
      "outputs": []
    }
  ]
}