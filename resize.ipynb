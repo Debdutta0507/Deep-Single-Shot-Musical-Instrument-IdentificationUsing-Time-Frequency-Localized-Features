{
  "nbformat": 4,
  "nbformat_minor": 0,
  "metadata": {
    "colab": {
      "name": "resize.ipynb",
      "provenance": [],
      "collapsed_sections": [],
      "mount_file_id": "1YdOyYFbTWK9027HlDEoVbTgNH-BT98yW",
      "authorship_tag": "ABX9TyPjJMqGM+anGnbJ1G3fHXdR",
      "include_colab_link": true
    },
    "kernelspec": {
      "name": "python3",
      "display_name": "Python 3"
    }
  },
  "cells": [
    {
      "cell_type": "markdown",
      "metadata": {
        "id": "view-in-github",
        "colab_type": "text"
      },
      "source": [
        "<a href=\"https://colab.research.google.com/github/Debdutta0507/Deep-Single-Shot-Musical-Instrument-IdentificationUsing-Time-Frequency-Localized-Features/blob/master/resize.ipynb\" target=\"_parent\"><img src=\"https://colab.research.google.com/assets/colab-badge.svg\" alt=\"Open In Colab\"/></a>"
      ]
    },
    {
      "cell_type": "code",
      "metadata": {
        "id": "Jkcpr-0PzJ4j"
      },
      "source": [
        "import cv2\n",
        "import glob\n",
        "import os"
      ],
      "execution_count": null,
      "outputs": []
    },
    {
      "cell_type": "code",
      "metadata": {
        "id": "sS5aYxJf1ACn"
      },
      "source": [
        "inputfolder='/content/drive/My Drive/Spectogram_kaggle/Violin'\n",
        "i=1\n",
        "for img in glob.glob(inputfolder+\"/*.png\"):\n",
        "  image=cv2.imread(img)\n",
        "  imgresized=cv2.resize(image,(224,224))\n",
        "  cv2.imwrite(\"/content/drive/My Drive/Resized Spectogram/Violin/Violin%d.png\"%i,imgresized)\n",
        "  i=i+1"
      ],
      "execution_count": null,
      "outputs": []
    }
  ]
}