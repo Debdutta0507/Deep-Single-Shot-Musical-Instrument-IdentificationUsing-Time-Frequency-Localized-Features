{
  "nbformat": 4,
  "nbformat_minor": 0,
  "metadata": {
    "colab": {
      "name": "resize.ipynb",
      "provenance": [],
      "collapsed_sections": []
    },
    "kernelspec": {
      "name": "python3",
      "display_name": "Python 3"
    }
  },
  "cells": [
    {
      "cell_type": "code",
      "metadata": {
        "id": "Jkcpr-0PzJ4j",
        "colab_type": "code",
        "colab": {}
      },
      "source": [
        "import cv2\n",
        "import glob\n",
        "import os"
      ],
      "execution_count": null,
      "outputs": []
    },
    {
      "cell_type": "code",
      "metadata": {
        "id": "sS5aYxJf1ACn",
        "colab_type": "code",
        "colab": {}
      },
      "source": [
        "inputfolder='/content/drive/My Drive/data_set1/Validation set/voi'\n",
        "i=1\n",
        "for img in glob.glob(inputfolder+\"/*.png\"):\n",
        "  image=cv2.imread(img)\n",
        "  imgresized=cv2.resize(image,(224,224))\n",
        "  cv2.imwrite(\"/content/drive/My Drive/data_set1/voi1/voi%d.png\"%i,imgresized)\n",
        "  i=i+1"
      ],
      "execution_count": null,
      "outputs": []
    }
  ]
}