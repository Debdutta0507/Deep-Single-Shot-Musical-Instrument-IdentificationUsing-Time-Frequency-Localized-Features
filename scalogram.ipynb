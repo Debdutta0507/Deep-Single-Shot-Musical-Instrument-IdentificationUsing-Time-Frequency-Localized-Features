{
  "nbformat": 4,
  "nbformat_minor": 0,
  "metadata": {
    "colab": {
      "name": "scalogram.ipynb",
      "provenance": [],
      "mount_file_id": "1cfTkrqzKHAMeMwPNkFrtITxbEzockC80",
      "authorship_tag": "ABX9TyN/NDa2Urpt7jalwWGHjBvX",
      "include_colab_link": true
    },
    "kernelspec": {
      "name": "python3",
      "display_name": "Python 3"
    }
  },
  "cells": [
    {
      "cell_type": "markdown",
      "metadata": {
        "id": "view-in-github",
        "colab_type": "text"
      },
      "source": [
        "<a href=\"https://colab.research.google.com/github/Debdutta0507/Deep-Single-Shot-Musical-Instrument-IdentificationUsing-Time-Frequency-Localized-Features/blob/master/scalogram.ipynb\" target=\"_parent\"><img src=\"https://colab.research.google.com/assets/colab-badge.svg\" alt=\"Open In Colab\"/></a>"
      ]
    },
    {
      "cell_type": "code",
      "metadata": {
        "id": "iR62KXnSYKZ0",
        "colab": {
          "base_uri": "https://localhost:8080/",
          "height": 34
        },
        "outputId": "0d1db77f-0e85-4b1c-b38c-91e246594dab"
      },
      "source": [
        "import tensorflow as tf \n",
        "tf.test.gpu_device_name()\n",
        "\n"
      ],
      "execution_count": null,
      "outputs": [
        {
          "output_type": "execute_result",
          "data": {
            "text/plain": [
              "''"
            ]
          },
          "metadata": {
            "tags": []
          },
          "execution_count": 1
        }
      ]
    },
    {
      "cell_type": "code",
      "metadata": {
        "id": "xs4cOC79ZL7Q"
      },
      "source": [
        "!unzip -uq \"/content/drive/My Drive/ismir data set/IRMAS-TrainingData.zip\" -d \"/content/drive/My Drive/Data_set\""
      ],
      "execution_count": null,
      "outputs": []
    }
  ]
}