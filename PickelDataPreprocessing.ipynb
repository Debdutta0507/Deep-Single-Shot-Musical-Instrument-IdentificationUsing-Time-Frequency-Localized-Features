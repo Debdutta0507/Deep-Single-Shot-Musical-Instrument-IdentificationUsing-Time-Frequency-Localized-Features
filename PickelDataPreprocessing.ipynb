{
  "nbformat": 4,
  "nbformat_minor": 0,
  "metadata": {
    "colab": {
      "name": "pickel.ipynb",
      "provenance": [],
      "collapsed_sections": []
    },
    "kernelspec": {
      "name": "python3",
      "display_name": "Python 3"
    }
  },
  "cells": [
    {
      "cell_type": "code",
      "metadata": {
        "id": "2xm5AP_BO9N9",
        "colab_type": "code",
        "colab": {}
      },
      "source": [
        "\n",
        "def loadimgs1(path,n = 0):\n",
        "    import os\n",
        "    from skimage.io import imread\n",
        "    import numpy as np\n",
        "    import sys\n",
        "    import numpy as np\n",
        "    #from scipy.misc import imread\n",
        "    import pickle\n",
        "    import os\n",
        "    import matplotlib.pyplot as plt\n",
        "    import argparse\n",
        "    '''\n",
        "    path =r\"/content/drive/My Drive/data_set1/training set\"\n",
        "    '''\n",
        "    \n",
        "    X=[]\n",
        "    y = []\n",
        "    cat_dict = {}\n",
        "    lang_dict = {}\n",
        "    curr_y = n\n",
        "    \n",
        "    # we load every alphabet seperately so we can isolate them later\n",
        "    for alphabet in os.listdir(path):\n",
        "        print(\"loading alphabet: \" + alphabet)\n",
        "        lang_dict[alphabet] = [curr_y,None]\n",
        "        category_images=[]\n",
        "        alphabet_path = os.path.join(path,alphabet)\n",
        "        \n",
        "        # every letter/category has it's own column in the array, so  load seperately\n",
        "        for filename in os.listdir(alphabet_path):\n",
        "            cat_dict[curr_y] = (alphabet, filename)\n",
        "            image_path=os.path.join(alphabet_path,filename)\n",
        "            image=imread(image_path)\n",
        "            category_images.append(image)\n",
        "            y.append(curr_y)\n",
        "            curr_y +=1\n",
        "        try:\n",
        "            X.append(np.stack(category_images))\n",
        "        except ValueError as e:\n",
        "            print(e)\n",
        "            print(\"error-category images\",category_images)\n",
        "        #curr_y +=1\n",
        "        lang_dict[alphabet][1]=curr_y-1\n",
        "        \"\"\" \n",
        "            letter_path = os.path.join(alphabet_path, letter)\n",
        "            \n",
        "            # read all the images in the current category\n",
        "            for filename in os.listdir(letter_path):\n",
        "                image_path = os.path.join(letter_path, filename)\n",
        "                image = imread(image_path)\n",
        "                category_images.append(image)\n",
        "                y.append(curr_y)\n",
        "            try:\n",
        "                X.append(np.stack(category_images))\n",
        "            # edge case  - last one\n",
        "            except ValueError as e:\n",
        "                print(e)\n",
        "                print(\"error - category_images:\", category_images)\n",
        "            curr_y += 1\n",
        "            lang_dict[alphabet][1] = curr_y - 1\n",
        "        \"\"\"\n",
        "    y = np.vstack(y)\n",
        "    X = np.stack(X)\n",
        "    return X,y,lang_dict\n"
      ],
      "execution_count": null,
      "outputs": []
    },
    {
      "cell_type": "code",
      "metadata": {
        "id": "q_MmFEyGPJA5",
        "colab_type": "code",
        "colab": {
          "base_uri": "https://localhost:8080/",
          "height": 68
        },
        "outputId": "e64bcf26-9f66-45e6-902c-a8f6b801c9f7"
      },
      "source": [
        "X,y,c=loadimgs1(\"/content/drive/My Drive/data_set1/training set\")"
      ],
      "execution_count": null,
      "outputs": [
        {
          "output_type": "stream",
          "text": [
            "loading alphabet: cel1\n",
            "loading alphabet: Gel1\n",
            "loading alphabet: sax1\n"
          ],
          "name": "stdout"
        }
      ]
    },
    {
      "cell_type": "code",
      "metadata": {
        "id": "JtTisC_8wAh2",
        "colab_type": "code",
        "colab": {
          "base_uri": "https://localhost:8080/",
          "height": 34
        },
        "outputId": "a042d7b4-e44c-4716-c167-3bd08f936951"
      },
      "source": [
        "X.shape"
      ],
      "execution_count": null,
      "outputs": [
        {
          "output_type": "execute_result",
          "data": {
            "text/plain": [
              "(8, 388, 224, 224, 3)"
            ]
          },
          "metadata": {
            "tags": []
          },
          "execution_count": 5
        }
      ]
    },
    {
      "cell_type": "code",
      "metadata": {
        "id": "c1Q_9SaIj3yM",
        "colab_type": "code",
        "colab": {
          "base_uri": "https://localhost:8080/",
          "height": 34
        },
        "outputId": "6a73a6b8-0427-442e-8cba-d769dbb56d76"
      },
      "source": [
        "y.shape"
      ],
      "execution_count": null,
      "outputs": [
        {
          "output_type": "execute_result",
          "data": {
            "text/plain": [
              "(3104, 1)"
            ]
          },
          "metadata": {
            "tags": []
          },
          "execution_count": 6
        }
      ]
    },
    {
      "cell_type": "code",
      "metadata": {
        "id": "EKPltFMIkbTx",
        "colab_type": "code",
        "colab": {
          "base_uri": "https://localhost:8080/",
          "height": 153
        },
        "outputId": "1dd5f9b4-6e11-4fad-8c9e-20230cb871d2"
      },
      "source": [
        "c"
      ],
      "execution_count": null,
      "outputs": [
        {
          "output_type": "execute_result",
          "data": {
            "text/plain": [
              "{'clarinet1': [0, 387],\n",
              " 'flute1': [388, 775],\n",
              " 'gac1': [776, 1163],\n",
              " 'org1': [1164, 1551],\n",
              " 'piano1': [1940, 2327],\n",
              " 'tru1': [2328, 2715],\n",
              " 'vio1': [1552, 1939],\n",
              " 'voi1': [2716, 3103]}"
            ]
          },
          "metadata": {
            "tags": []
          },
          "execution_count": 7
        }
      ]
    },
    {
      "cell_type": "code",
      "metadata": {
        "id": "YVx9jD50wKu2",
        "colab_type": "code",
        "colab": {}
      },
      "source": [
        "import os\n",
        "import pickle"
      ],
      "execution_count": null,
      "outputs": []
    },
    {
      "cell_type": "code",
      "metadata": {
        "id": "h7hRPRwvvsD_",
        "colab_type": "code",
        "colab": {}
      },
      "source": [
        "with open(os.path.join(\"/content/drive/My Drive/data_set1\",\"train.pickle\"), \"wb\") as f:\n",
        "    pickle.dump((X,c),f)# repeat the same for validation set"
      ],
      "execution_count": null,
      "outputs": []
    },
    {
      "cell_type": "code",
      "metadata": {
        "id": "XDrwVZ3w5ZKR",
        "colab_type": "code",
        "colab": {}
      },
      "source": [
        ""
      ],
      "execution_count": null,
      "outputs": []
    }
  ]
}